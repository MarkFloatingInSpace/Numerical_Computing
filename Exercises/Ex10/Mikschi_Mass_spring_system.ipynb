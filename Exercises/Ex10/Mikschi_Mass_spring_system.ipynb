{
 "cells": [
  {
   "cell_type": "markdown",
   "metadata": {},
   "source": [
    "# Mass-Spring system\n",
    "\n",
    "<img src=\"https://i.ytimg.com/vi/lZPtFDXYQRU/maxresdefault.jpg\" width=\"50%\">\n",
    "\n",
    "$ H(p, q) = V(q) + T(p) $\n",
    "\n",
    "$ \\dot q = \\frac{\\partial H}{\\partial p} $\n",
    "\n",
    "$ \\dot p = -\\frac{\\partial H}{\\partial q} $\n",
    "\n",
    "$ H = \\frac{1}{2}kq^2 + \\frac{1}{2m}p^2 $\n",
    "\n",
    "$ \\dot q = \\frac{1}{m}p $\n",
    "\n",
    "$ \\dot p = -kq $\n",
    "\n"
   ]
  },
  {
   "cell_type": "code",
   "execution_count": null,
   "metadata": {},
   "outputs": [],
   "source": [
    "from scipy.integrate import solve_ivp\n",
    "import matplotlib.pyplot as plt\n",
    "import numpy as np\n",
    "\n",
    "def mass_spring(t, pq):\n",
    "    p, q = pq\n",
    "    m = 1\n",
    "    k = 1\n",
    "    \n",
    "    return [-k*q, 1/m*p]\n",
    "\n",
    "\n",
    "sol = solve_ivp(mass_spring, [0, 15], [4, 0], dense_output=True)\n",
    "t = np.linspace(0, 15, 300)\n",
    "z = sol.sol(t)"
   ]
  },
  {
   "cell_type": "code",
   "execution_count": null,
   "metadata": {},
   "outputs": [],
   "source": [
    "plt.figure()\n",
    "plt.plot(t, z[0, :])\n",
    "plt.plot(t, z[1, :])"
   ]
  },
  {
   "cell_type": "code",
   "execution_count": null,
   "metadata": {
    "scrolled": true
   },
   "outputs": [],
   "source": []
  },
  {
   "cell_type": "code",
   "execution_count": null,
   "metadata": {},
   "outputs": [],
   "source": []
  }
 ],
 "metadata": {
  "kernelspec": {
   "display_name": "Python 3",
   "language": "python",
   "name": "python3"
  },
  "language_info": {
   "codemirror_mode": {
    "name": "ipython",
    "version": 3
   },
   "file_extension": ".py",
   "mimetype": "text/x-python",
   "name": "python",
   "nbconvert_exporter": "python",
   "pygments_lexer": "ipython3",
   "version": "3.8.5"
  }
 },
 "nbformat": 4,
 "nbformat_minor": 4
}
