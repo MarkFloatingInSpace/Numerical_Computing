{
 "cells": [
  {
   "cell_type": "markdown",
   "metadata": {},
   "source": [
    "## Implement and test the implicit Euler method for non-linear ODEs\n",
    "Use Newton’s method to solve the non-linear equation.  The input to the solver is as before, plus a user-provided derivative of the right hand side of the ODE."
   ]
  },
  {
   "cell_type": "code",
   "execution_count": null,
   "metadata": {},
   "outputs": [],
   "source": [
    "import numpy as np\n",
    "import matplotlib.pyplot as plt\n",
    "\n",
    "\n",
    "def implizit_euler(rhs, y0, t, a, b, c, h, args))\n",
    "\n",
    "    \n",
    "    for iter_idx in range(10):\n",
    "            value_c1 = c1.evaluate(current_point)\n",
    "            value_c2 = c2.evaluate(current_point)\n",
    "            current_f = np.vstack((value_c1, value_c2))\n",
    "\n",
    "            grad_c1 = c1.evaluate_gradient(current_point)\n",
    "            grad_c2 = c2.evaluate_gradient(current_point)\n",
    "\n",
    "            jacobi = np.vstack((grad_c1.T, grad_c2.T))\n",
    "\n",
    "            updated_point = current_point - np.linalg.inv(jacobi) @ current_f\n",
    "            point_list.append(updated_point)\n",
    "\n",
    "            if np.linalg.norm(updated_point - current_point) < epsilon:\n",
    "                return updated_point, point_list\n",
    "\n",
    "            current_point = updated_point"
   ]
  }
 ],
 "metadata": {
  "kernelspec": {
   "display_name": "Python 3",
   "language": "python",
   "name": "python3"
  },
  "language_info": {
   "codemirror_mode": {
    "name": "ipython",
    "version": 3
   },
   "file_extension": ".py",
   "mimetype": "text/x-python",
   "name": "python",
   "nbconvert_exporter": "python",
   "pygments_lexer": "ipython3",
   "version": "3.8.5"
  }
 },
 "nbformat": 4,
 "nbformat_minor": 4
}
