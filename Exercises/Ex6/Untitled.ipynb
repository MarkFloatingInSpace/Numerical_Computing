{
 "cells": [
  {
   "cell_type": "markdown",
   "metadata": {},
   "source": [
    "Implement a Cholesky factorization for tridiagonal block-matrices\n",
    "\n",
    "$$ A =  \\left(\\begin{array}{cc} \n",
    "A_{11} & A_{21}^T & 0 & \\dots & 0 \\\\\n",
    "A_{21} & A_{22} & A_{32}^T & & \\vdots \\\\\n",
    "0 & A_{32} & \\ddots & \\ddots & 0 \\\\\n",
    "\\vdots & & \\ddots & \\ddots & A_{n, n-1}^T \\\\\n",
    "0 & \\dots & 0 & A_{n, n-1} & A_{n, n} \\\\\n",
    "\\end{array}\\right)$$\n",
    "\n",
    ",where $A_{ii}$ are symmetric, and $A_{i+1,i}$ are upper right triangular $m×m$ matrices.  Find the Cholesky factorization $A=LL^T$ where\n",
    "\n",
    "$$ L = \\left(\\begin{array}{cc} \n",
    "L_{11} & 0 & 0 & \\dots & 0 \\\\\n",
    "L_{21} & L_{22} & 0 & & \\vdots \\\\\n",
    "0 & L_{32} & \\ddots & \\ddots & 0 \\\\\n",
    "\\vdots & & \\ddots & \\ddots & 0 \\\\\n",
    "0 & \\dots & 0 & A_{n, n-1} & A_{n, n} \\\\\n",
    "\\end{array}\\right)$$\n",
    "\n",
    "Store the block-matrix as list of matrices. You should use fast library functions to work with the blocks. \n",
    "\n",
    "Test your  function for solving the Poisson equation (see notes '4 Linear systems', page 12).  Choose $f(x,y) = χ[0.2,0.4]^2(x,y)$ and $u_D= 0$.  Plot the solutionu(x,y). What floating point rate do you obtain ?  How big systems can you solve in 1 minute?"
   ]
  },
  {
   "cell_type": "code",
   "execution_count": null,
   "metadata": {},
   "outputs": [],
   "source": [
    "import numpy as np\n",
    "import matplotloib.pyplot as plt\n",
    "\n",
    "\n",
    "def cholesky_tridiagonal_block(A):\n",
    "    "
   ]
  }
 ],
 "metadata": {
  "kernelspec": {
   "display_name": "Python 3",
   "language": "python",
   "name": "python3"
  },
  "language_info": {
   "codemirror_mode": {
    "name": "ipython",
    "version": 3
   },
   "file_extension": ".py",
   "mimetype": "text/x-python",
   "name": "python",
   "nbconvert_exporter": "python",
   "pygments_lexer": "ipython3",
   "version": "3.8.5"
  }
 },
 "nbformat": 4,
 "nbformat_minor": 4
}
