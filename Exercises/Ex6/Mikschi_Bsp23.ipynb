{
 "cells": [
  {
   "cell_type": "markdown",
   "metadata": {},
   "source": [
    "### Recusive Blocking\n",
    "Implement a solver for the equation \n",
    "$$LX=Y$$\n",
    "where $L∈R^{n×n}$ is a given lower left triangular matrix, $Y∈R^{n×m}$ is the given righthand side, and $X∈R^{n×m}$ is the unknown matrix. These can be interpreted as solving $m$ linear systems for the column vectors of $X$ and $Y$. Your function may overwrite the right hand side matrix $Y$ by the solution. Implement the function by recusive blocking, and utilizie fast library functions for matrix-matrix and matrix-vector operations. You may use Python (numpy) or C++ with one of the matrix libraries from Ex 20.  What floating-point rate do you obtain? How big systems (with n=m) can you solve within 10 sec?"
   ]
  },
  {
   "cell_type": "markdown",
   "metadata": {},
   "source": [
    "$$ \\left(\\begin{array}{cc} \n",
    "L_{11} & 0 \\\\\n",
    "L_{21} & L_{22}\\\\\n",
    "\\end{array}\\right) \\left(\\begin{array}{c} \n",
    "x_1 \\\\\n",
    "x_2\\\\\n",
    "\\end{array}\\right) = \\left(\\begin{array}{c} \n",
    "b_1 \\\\\n",
    "b_2\\\\\n",
    "\\end{array}\\right)\n",
    "$$\n",
    "\n",
    "1. Solve $L_{11} x_1 = b_1$\n",
    "2. Calculate $r = b_2 - L_{21} x_1$\n",
    "3. Solve $L_{22} x_2 = r$\n",
    "\n",
    "The steps 1. and 3. are problems of half the size and 2. is a matrix-matrix-product which can be calculated efficiently using good libraries.\n",
    "\n"
   ]
  },
  {
   "cell_type": "code",
   "execution_count": null,
   "metadata": {},
   "outputs": [],
   "source": [
    "import numpy as np\n",
    "import matplotlib.pyplot as plt\n",
    "import time\n",
    "\n",
    "def recursive_blocking(L, B, n0, n1, n2):\n",
    "    # 1. solve L11 x1 = b1\n",
    "\n",
    "    # is L11 already a scalar?\n",
    "    if n1 - n0 == 1:\n",
    "        L[n0, :] = B[n0, :] / L[n0, n0]\n",
    "    else:\n",
    "        # split the L matrix\n",
    "        split_idx = (n1 - n0) // 2\n",
    "        recursive_blocking(L, B, n0, n0+split_idx, n1)\n",
    "\n",
    "    # 2. calculate r = b2 - L21 x1\n",
    "    r = B[n1:n2, :] - L[n1:n2, n0:n1] @ L[n0:n1]\n",
    "    B[n1:n2, :] = r\n",
    "\n",
    "    # 3. solve L22 x2 = r\n",
    "\n",
    "    # is L22 already a scalar?\n",
    "    if n2 - n1 == 1:\n",
    "        L[n1, :] = r / L[n1, n1]\n",
    "    else:\n",
    "        # split the L matrix\n",
    "        split_idx = (n2 - n1) // 2\n",
    "        recursive_blocking(L, B, n1, n1 + split_idx, n2)\n",
    "\n",
    "\n",
    "def recursive_blocking_solver(L, B):\n",
    "    # LX = B\n",
    "    # L [n x n]\n",
    "    # X [n x m]\n",
    "    # B [n x m]\n",
    "    n, m = L.shape\n",
    "\n",
    "    recursive_blocking(L, B, 0, n//2, n)\n",
    "    return L\n",
    "\n",
    "\n",
    "error_list = []\n",
    "flop_list = []\n",
    "for n in range(100, 1000):\n",
    "\n",
    "    L = np.tril(np.random.rand(n, n)) + n*np.eye(n)\n",
    "    B = np.random.rand(n, n)\n",
    "\n",
    "    X_comp = np.linalg.solve(L, B)\n",
    "    \n",
    "    start_time = time.time_ns() \n",
    "    X = recursive_blocking_solver(L, B)\n",
    "    end_time = time.time_ns()\n",
    "    \n",
    "    dt = end_time - start_time\n",
    "    \n",
    "    error_list.append(np.max(X_comp - X))\n",
    "    flop_list.append((n**3+n) / dt * 1e9)\n",
    "    \n",
    "    \n",
    "plt.figure()\n",
    "plt.plot(error_list)\n",
    "ax = plt.gca()\n",
    "ax.set_yscale('log')\n",
    "\n",
    "plt.figure()\n",
    "plt.plot(flop_list)\n",
    "ax = plt.gca()"
   ]
  },
  {
   "cell_type": "code",
   "execution_count": 51,
   "metadata": {},
   "outputs": [
    {
     "name": "stdout",
     "output_type": "stream",
     "text": [
      "9.990833044052124\n"
     ]
    }
   ],
   "source": [
    "n = 9000\n",
    "L = np.tril(np.random.rand(n, n)) + n*np.eye(n)\n",
    "B = np.random.rand(n, n)\n",
    "\n",
    "start_time = time.time() \n",
    "X = recursive_blocking_solver(L, B)\n",
    "end_time = time.time()\n",
    "\n",
    "dt = end_time - start_time\n",
    "print(dt)"
   ]
  },
  {
   "cell_type": "code",
   "execution_count": null,
   "metadata": {},
   "outputs": [],
   "source": []
  }
 ],
 "metadata": {
  "kernelspec": {
   "display_name": "Python 3",
   "language": "python",
   "name": "python3"
  },
  "language_info": {
   "codemirror_mode": {
    "name": "ipython",
    "version": 3
   },
   "file_extension": ".py",
   "mimetype": "text/x-python",
   "name": "python",
   "nbconvert_exporter": "python",
   "pygments_lexer": "ipython3",
   "version": "3.8.5"
  }
 },
 "nbformat": 4,
 "nbformat_minor": 4
}
