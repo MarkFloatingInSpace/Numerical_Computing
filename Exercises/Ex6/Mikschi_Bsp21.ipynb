{
 "cells": [
  {
   "cell_type": "markdown",
   "metadata": {},
   "source": [
    "### Familiarize yourself with the LU and Cholesky decompositon functions from scipy\n",
    "\n",
    "Try matrices\n",
    "\n",
    "-  $ A ∈ R^{n×n}$ tridiagonal,  where $A_{ii} = 2, A_{i,i+1} = A_{i+1,i} = −1$,  and  all  otherentries 0.\n",
    "-  $ B ∈ R^{n×n} $, where $B_{ij}$ are random numbers in $[0,1]$.\n",
    "\n",
    "Compute the factors $L$, $U$, and the permutation $P$, and $L^{−1}, U^{−1}$ using the library, and  then  compute $A^{−1}$ from  the  factors. Same  for  the  factors  form  the  Cholesky decomposition, if applicable.\n",
    "\n",
    "Compute the erros\n",
    "$$ ‖AA^{−1}−I‖_F$$\n",
    "\n",
    ",where the Frobenious norm of a matrix $M$ is\n",
    "$$ ‖M‖_F := \\sqrt{M:M}=\\sqrt{\\sum_{i=1}^n \\sum_{j=1}^n M_{i,j}^2} $$\n",
    "\n",
    "Use matrix sizes such that computation time is in the range of seconds."
   ]
  },
  {
   "cell_type": "markdown",
   "metadata": {},
   "source": [
    "#### LU Decomposition\n",
    "\n",
    "$$A = LU$$\n",
    "\n",
    "good for solving linear equation systems efficiently with many r.h.s.\n",
    "$$Ax = b$$\n",
    "$$LUx = b$$\n",
    "$$ Lw = b $$\n",
    "$$ Ux = w $$\n",
    "\n",
    "doesn't always exists or might be unstable depending on A.\n",
    "\n",
    "--> Pivoting: rearange rows s.t. the largest element in the i-th row is on the diagonal. Rearanging operation can be presented as a matrix multiplication:\n",
    "\n",
    "$$ A = P L U $$\n",
    "\n",
    "pivoting in example for A-matrix unnecessary --> $P = I_n$\n",
    "\n",
    "$P$ is orthogonal \n",
    "$$ A^{-1} = U^{-1} L^{-1} P^T $$"
   ]
  },
  {
   "cell_type": "code",
   "execution_count": 53,
   "metadata": {},
   "outputs": [
    {
     "name": "stdout",
     "output_type": "stream",
     "text": [
      "1.6723993657430358e-09\n",
      "1.2853904190482289e-09\n"
     ]
    }
   ],
   "source": [
    "import scipy as sp\n",
    "import scipy.linalg\n",
    "import matplotlib.pyplot as plt\n",
    "import numpy as np\n",
    "\n",
    "def A_matrix(n):\n",
    "    return np.eye(n)*2 - np.diag([1]*(n-1), -1) - np.diag([1]*(n-1), 1)\n",
    "\n",
    "\n",
    "def B_matrix(n):\n",
    "    return np.random.rand(n, n)\n",
    "\n",
    "n = 4000\n",
    "\n",
    "A = A_matrix(n)\n",
    "P, L, U = scipy.linalg.lu(A)  # calculate LU decoposition with pivoting s.t A = P L U \n",
    "\n",
    "L_inv = scipy.linalg.inv(L)\n",
    "U_inv = scipy.linalg.inv(U)\n",
    "\n",
    "inv_A = U_inv @ L_inv\n",
    "\n",
    "print(np.linalg.norm(A @ inv_A - np.eye(n)))\n",
    "\n",
    "\n",
    "B = B_matrix(n)\n",
    "P, L, U = scipy.linalg.lu(B)  # calculate LU decoposition with pivoting s.t A = P L U \n",
    "\n",
    "L_inv = scipy.linalg.inv(L)\n",
    "U_inv = scipy.linalg.inv(U)\n",
    "\n",
    "inv_B = U_inv @ L_inv @ P.T\n",
    "\n",
    "print(np.linalg.norm(B @ inv_B - np.eye(n)))\n"
   ]
  },
  {
   "cell_type": "markdown",
   "metadata": {},
   "source": [
    "### Cholensky decomposition\n",
    "\n",
    "Works for SPD matrices: symmetrical positive definite\n",
    "\n",
    "$$ A = LL^T $$\n",
    "\n",
    "Decomposition is not applicable for B matrix."
   ]
  },
  {
   "cell_type": "code",
   "execution_count": 54,
   "metadata": {},
   "outputs": [
    {
     "name": "stdout",
     "output_type": "stream",
     "text": [
      "7.847055282378599e-10\n"
     ]
    }
   ],
   "source": [
    "L = scipy.linalg.cholesky(A, lower=True)\n",
    "L_inv = scipy.linalg.inv(L)\n",
    "\n",
    "inv_A = L_inv.T @ L_inv\n",
    "\n",
    "print(np.linalg.norm(A @ inv_A - np.eye(n)))"
   ]
  },
  {
   "cell_type": "code",
   "execution_count": null,
   "metadata": {},
   "outputs": [],
   "source": []
  }
 ],
 "metadata": {
  "kernelspec": {
   "display_name": "Python 3",
   "language": "python",
   "name": "python3"
  },
  "language_info": {
   "codemirror_mode": {
    "name": "ipython",
    "version": 3
   },
   "file_extension": ".py",
   "mimetype": "text/x-python",
   "name": "python",
   "nbconvert_exporter": "python",
   "pygments_lexer": "ipython3",
   "version": "3.8.5"
  }
 },
 "nbformat": 4,
 "nbformat_minor": 4
}
