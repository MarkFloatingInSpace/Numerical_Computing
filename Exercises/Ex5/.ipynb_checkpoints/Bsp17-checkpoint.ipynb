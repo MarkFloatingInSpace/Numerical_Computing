{
 "cells": [
  {
   "cell_type": "markdown",
   "metadata": {},
   "source": [
    "Find Gaussian integration rules of arbitrary order. Use that the monic Legendre polynomials are\n",
    "\n",
    "$$ Ln(x) = det(xI−An) $$\n",
    "\n",
    "with\n",
    "\n",
    "$$ An= \\left(\\begin{array}{cc} \n",
    "0 & \\gamma_1 &&& \\\\\n",
    "\\gamma_1 & 0 & \\gamma_2 && \\\\\n",
    "& \\gamma_2 & \\ddots & \\ddots & \\\\\n",
    "&   & \\ddots & \\ddots & \\gamma_{n-1} \\\\\n",
    "& & & \\gamma_{n-1} & 0\n",
    "\\end{array}\\right) $$\n",
    "\n",
    "and\n",
    "\n",
    "$$ \\gamma_j = \\frac{1}{\\sqrt{4−j^{−2}}}$$\n",
    "\n",
    "Verify the formulas by plotting Legendre polynomials $L_n(x)$, and $\\tilde L_n(x) / \\tilde L_n(1)$.\n",
    "\n",
    "Find roots of  $\\tilde L_n(x)$ by computing the eigenvalues of $A_n$. Find  integration  weights  by  solving  a  linear  system  of  equations.   The  integrationrule with $n+1$ points must be exact (at least) for polynomials up to order $n$.  To set up the equation,  use either monomials $x^i$,  or Legendre polynomials.  Test your integration rules as in Ex 15. How far can you go with $n$? You  may  use  libraries  for  finding  eigenvalues  (scipy.linalg.eigh),  solving  linear  systems, computing determinants, and evaluating Legendre polynomials.\n",
    "nice reading:  https://gubner.ece.wisc.edu/gaussquad.pdf, Example 15"
   ]
  },
  {
   "cell_type": "code",
   "execution_count": 14,
   "metadata": {},
   "outputs": [
    {
     "ename": "NameError",
     "evalue": "name 'scipy' is not defined",
     "output_type": "error",
     "traceback": [
      "\u001b[1;31m---------------------------------------------------------------------------\u001b[0m",
      "\u001b[1;31mNameError\u001b[0m                                 Traceback (most recent call last)",
      "\u001b[1;32m<ipython-input-14-4086d6453e92>\u001b[0m in \u001b[0;36m<module>\u001b[1;34m\u001b[0m\n\u001b[0;32m     13\u001b[0m \u001b[0mAn\u001b[0m \u001b[1;33m=\u001b[0m \u001b[0mnp\u001b[0m\u001b[1;33m.\u001b[0m\u001b[0mdiagflat\u001b[0m\u001b[1;33m(\u001b[0m\u001b[0mgamma_j\u001b[0m\u001b[1;33m,\u001b[0m \u001b[1;33m-\u001b[0m\u001b[1;36m1\u001b[0m\u001b[1;33m)\u001b[0m \u001b[1;33m+\u001b[0m \u001b[0mnp\u001b[0m\u001b[1;33m.\u001b[0m\u001b[0mdiagflat\u001b[0m\u001b[1;33m(\u001b[0m\u001b[0mgamma_j\u001b[0m\u001b[1;33m,\u001b[0m \u001b[1;36m1\u001b[0m\u001b[1;33m)\u001b[0m\u001b[1;33m\u001b[0m\u001b[1;33m\u001b[0m\u001b[0m\n\u001b[0;32m     14\u001b[0m \u001b[1;33m\u001b[0m\u001b[0m\n\u001b[1;32m---> 15\u001b[1;33m \u001b[0mscipy\u001b[0m\u001b[1;33m.\u001b[0m\u001b[0mlinalg\u001b[0m\u001b[1;33m.\u001b[0m\u001b[0meigh\u001b[0m\u001b[1;33m(\u001b[0m\u001b[0mAn\u001b[0m\u001b[1;33m)\u001b[0m\u001b[1;33m\u001b[0m\u001b[1;33m\u001b[0m\u001b[0m\n\u001b[0m",
      "\u001b[1;31mNameError\u001b[0m: name 'scipy' is not defined"
     ]
    }
   ],
   "source": [
    "import numpy as np\n",
    "import matplotlib.pyplot as plt\n",
    "import scipy as sp\n",
    "\n",
    "n = 3\n",
    "\n",
    "def gamma_j(j):\n",
    "    return 1 / np.sqrt(4-1/j**2)\n",
    "\n",
    "j_gamma = np.arange(1, n)\n",
    "gamma_j = 1 / np.sqrt(4-1/j_gamma**2)\n",
    "\n",
    "An = np.diagflat(gamma_j, -1) + np.diagflat(gamma_j, 1)\n",
    "\n",
    "scipy.linalg.eigh(An)"
   ]
  },
  {
   "cell_type": "code",
   "execution_count": 12,
   "metadata": {},
   "outputs": [
    {
     "data": {
      "text/plain": [
       "array([[0.        , 0.57735027, 0.        ],\n",
       "       [0.57735027, 0.        , 0.51639778],\n",
       "       [0.        , 0.51639778, 0.        ]])"
      ]
     },
     "execution_count": 12,
     "metadata": {},
     "output_type": "execute_result"
    }
   ],
   "source": [
    "An"
   ]
  },
  {
   "cell_type": "code",
   "execution_count": null,
   "metadata": {},
   "outputs": [],
   "source": [
    "\n"
   ]
  },
  {
   "cell_type": "code",
   "execution_count": null,
   "metadata": {},
   "outputs": [],
   "source": []
  },
  {
   "cell_type": "code",
   "execution_count": null,
   "metadata": {},
   "outputs": [],
   "source": []
  }
 ],
 "metadata": {
  "kernelspec": {
   "display_name": "Python 3",
   "language": "python",
   "name": "python3"
  },
  "language_info": {
   "codemirror_mode": {
    "name": "ipython",
    "version": 3
   },
   "file_extension": ".py",
   "mimetype": "text/x-python",
   "name": "python",
   "nbconvert_exporter": "python",
   "pygments_lexer": "ipython3",
   "version": "3.8.5"
  }
 },
 "nbformat": 4,
 "nbformat_minor": 4
}
