{
 "cells": [
  {
   "cell_type": "markdown",
   "metadata": {},
   "source": [
    "Calculate the Taylor series at the expansion point $x= 0$ of the functions $\\frac{1}{x−1}$ and $\\frac{1}{x2+1}$, and plot the Taylor polynomials for n∈{10,20,40} on the interval [−2,2]. Hint: A partial fraction decomposition of the second function explains the bad be-haviour of the harmless looking function."
   ]
  },
  {
   "cell_type": "markdown",
   "metadata": {},
   "source": [
    "Taylor polynomial:\n",
    "$$ \\sum_{n=0}^\\infty \\frac{f^{(n)}(x)}{n!} (x-x_0)^n$$\n",
    "\n",
    "For $\\frac{1}{x−1}$:\n"
   ]
  },
  {
   "cell_type": "code",
   "execution_count": null,
   "metadata": {},
   "outputs": [],
   "source": [
    "import numpy as np\n",
    "import matplotlib.pyplot as plt\n",
    "from math import factorial\n",
    "\n",
    "def taylor_poly_a(n):\n",
    "    return (-1)**n * factorial(n) / () "
   ]
  }
 ],
 "metadata": {
  "kernelspec": {
   "display_name": "Python 3",
   "language": "python",
   "name": "python3"
  },
  "language_info": {
   "codemirror_mode": {
    "name": "ipython",
    "version": 3
   },
   "file_extension": ".py",
   "mimetype": "text/x-python",
   "name": "python",
   "nbconvert_exporter": "python",
   "pygments_lexer": "ipython3",
   "version": "3.8.5"
  }
 },
 "nbformat": 4,
 "nbformat_minor": 4
}
