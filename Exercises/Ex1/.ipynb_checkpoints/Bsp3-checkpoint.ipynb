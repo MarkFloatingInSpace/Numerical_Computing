{
 "cells": [
  {
   "cell_type": "markdown",
   "metadata": {},
   "source": [
    "Implement the Aitken-Nevill scheme for polynomial interpolation. Test it for numerical differentiation by extrapolation for $f(x) = sin(x)$\n",
    "\n",
    "$$ D_f(x, h) :=\\frac{f(x+h)−f(x)}{h}$$\n",
    "and\n",
    "$$ D_{f,sym} := \\frac{f(x+h)−f(x−h)}{2h} $$\n",
    "\n",
    "Choose $x=\\pi$,  and interpolation points $h_i=q^i$ for $i ∈ \\{0,...n\\}$. Generate convergence plot for the errors $f′(x)−D_f(x,0)$. Try  different refinement ratios $q∈(0,1)$. How does this effect speed of convergence, and reachable accuracy? Since $\\underset{h→0}{lim} D_{f,sym}(x,h) = \\underset{h→0}{lim}D_{f,sym}(x,\\sqrt{h})$, try also extrapolation of the function $h→D_{f,sym}(x,\\sqrt{h})$."
   ]
  },
  {
   "cell_type": "markdown",
   "metadata": {},
   "source": []
  },
  {
   "cell_type": "code",
   "execution_count": 11,
   "metadata": {},
   "outputs": [
    {
     "data": {
      "text/plain": [
       "[<matplotlib.lines.Line2D at 0x28c92e85c70>]"
      ]
     },
     "execution_count": 11,
     "metadata": {},
     "output_type": "execute_result"
    },
    {
     "data": {
      "image/png": "[encoded data removed]",
      "text/plain": [
       "<Figure size 432x288 with 1 Axes>"
      ]
     },
     "metadata": {
      "needs_background": "light"
     },
     "output_type": "display_data"
    }
   ],
   "source": [
    "import numpy as np\n",
    "import matplotlib.pyplot as plt\n",
    "\n",
    "def aitken_neville(x_nodes, y_nodes, x):\n",
    "    p = y_nodes\n",
    "    n = len(x_nodes)-1\n",
    "    \n",
    "    for m in range(n):\n",
    "        for i in range(n-m):\n",
    "            j = i+1+m\n",
    "            p[i] = ((x-x_nodes[j]) * p[i] - (x-x_nodes[i]) * p[i+1]) / (x_nodes[i] - x_nodes[j])\n",
    "    \n",
    "    return p[0]\n",
    "        \n",
    "x_nodes = np.linspace(-3, 3, 10)\n",
    "y_nodes = np.sin(x_nodes)\n",
    "\n",
    "plt.figure()\n",
    "plt.plot(x_nodes, y_nodes, 'x-')\n",
    "\n",
    "x_int = 0.1\n",
    "y_int = aitken_neville(x_nodes, y_nodes, x_int)\n",
    "\n",
    "plt.plot(x_int, y_int, 'x')"
   ]
  },
  {
   "cell_type": "markdown",
   "metadata": {},
   "source": [
    "$$f(x) = sin(x)$$\n",
    "$$f'(x) = cos(x)$$\n",
    "$$f'(\\pi) = -1 $$"
   ]
  },
  {
   "cell_type": "code",
   "execution_count": null,
   "metadata": {},
   "outputs": [],
   "source": []
  }
 ],
 "metadata": {
  "kernelspec": {
   "display_name": "Python 3",
   "language": "python",
   "name": "python3"
  },
  "language_info": {
   "codemirror_mode": {
    "name": "ipython",
    "version": 3
   },
   "file_extension": ".py",
   "mimetype": "text/x-python",
   "name": "python",
   "nbconvert_exporter": "python",
   "pygments_lexer": "ipython3",
   "version": "3.8.5"
  }
 },
 "nbformat": 4,
 "nbformat_minor": 4
}
