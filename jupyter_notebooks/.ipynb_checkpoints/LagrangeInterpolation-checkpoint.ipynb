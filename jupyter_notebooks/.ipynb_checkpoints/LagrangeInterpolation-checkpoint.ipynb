{
 "cells": [
  {
   "cell_type": "markdown",
   "metadata": {},
   "source": [
    "# Lagrange interpolation"
   ]
  },
  {
   "cell_type": "code",
   "execution_count": 1,
   "metadata": {
    "scrolled": true
   },
   "outputs": [
    {
     "name": "stdout",
     "output_type": "stream",
     "text": [
      "x= [0.         0.07853982 0.15707963 0.23561945 0.31415927 0.39269908\n",
      " 0.4712389  0.54977871 0.62831853 0.70685835 0.78539816 0.86393798\n",
      " 0.9424778  1.02101761 1.09955743 1.17809725 1.25663706 1.33517688\n",
      " 1.41371669 1.49225651 1.57079633]\n",
      "y= [0.         0.0784591  0.15643447 0.23344536 0.30901699 0.38268343\n",
      " 0.4539905  0.52249856 0.58778525 0.64944805 0.70710678 0.76040597\n",
      " 0.80901699 0.85264016 0.89100652 0.92387953 0.95105652 0.97236992\n",
      " 0.98768834 0.99691733 1.        ]\n",
      "type(y)= <class 'numpy.ndarray'>\n"
     ]
    }
   ],
   "source": [
    "from math import pi\n",
    "from numpy import sin, linspace\n",
    "import matplotlib.pyplot as plt\n",
    "\n",
    "a,b = 0, pi/2\n",
    "x = linspace(a,b,21)\n",
    "y = sin(x)\n",
    "print (\"x=\",x)\n",
    "print (\"y=\",y)\n",
    "print (\"type(y)=\", type(y))"
   ]
  },
  {
   "cell_type": "code",
   "execution_count": 2,
   "metadata": {
    "scrolled": true
   },
   "outputs": [
    {
     "data": {
      "text/plain": [
       "[<matplotlib.lines.Line2D at 0x1b2bdf6f4f0>]"
      ]
     },
     "execution_count": 2,
     "metadata": {},
     "output_type": "execute_result"
    },
    {
     "data": {
      "image/png": "[encoded data removed]",
      "text/plain": [
       "<Figure size 432x288 with 1 Axes>"
      ]
     },
     "metadata": {
      "needs_background": "light"
     },
     "output_type": "display_data"
    }
   ],
   "source": [
    "plt.plot (x, sin(x), \"-\")"
   ]
  },
  {
   "cell_type": "markdown",
   "metadata": {},
   "source": [
    "i-th Lagrange polynomial to points pts, evaluated at x:"
   ]
  },
  {
   "cell_type": "code",
   "execution_count": null,
   "metadata": {},
   "outputs": [],
   "source": [
    "def Lagrange (pts, i, x):\n",
    "    prod = 1\n",
    "    for j in range(len(pts)):\n",
    "        if j != i:\n",
    "            prod = prod * (x-pts[j])/(pts[i]-pts[j])\n",
    "    return prod"
   ]
  },
  {
   "cell_type": "code",
   "execution_count": null,
   "metadata": {},
   "outputs": [],
   "source": [
    "pts = [0, pi/4, pi/2]\n",
    "print (\"L0(0.2) =\", Lagrange(pts, 0, 0.2))\n",
    "\n",
    "print (\"L0(xi) =\", Lagrange(pts, 0, x))"
   ]
  },
  {
   "cell_type": "code",
   "execution_count": null,
   "metadata": {},
   "outputs": [],
   "source": [
    "plt.plot (x, Lagrange(pts, 0, x), x, Lagrange(pts, 1, x), x, Lagrange(pts, 2, x))"
   ]
  },
  {
   "cell_type": "code",
   "execution_count": null,
   "metadata": {},
   "outputs": [],
   "source": [
    "def InterpolationPolynomial (fun, pts, x):\n",
    "    sum = 0\n",
    "    for i in range(len(pts)):\n",
    "        sum = sum + fun(pts[i]) * Lagrange(pts, i, x)\n",
    "    return sum"
   ]
  },
  {
   "cell_type": "code",
   "execution_count": null,
   "metadata": {},
   "outputs": [],
   "source": [
    "def InterpolationPolynomial (fun, pts, x):\n",
    "     return sum( [fun(p) * Lagrange(pts, i, x) for i,p in enumerate(pts)] )"
   ]
  },
  {
   "cell_type": "code",
   "execution_count": null,
   "metadata": {},
   "outputs": [],
   "source": [
    "pts = linspace(a,b,4)\n",
    "plt.plot (x, sin(x), x, InterpolationPolynomial(sin, pts, x), pts, sin(pts), \"x\")"
   ]
  },
  {
   "cell_type": "code",
   "execution_count": null,
   "metadata": {},
   "outputs": [],
   "source": [
    "plt.plot (x, sin(x)-InterpolationPolynomial(sin, linspace(a,b,3), x))"
   ]
  },
  {
   "cell_type": "code",
   "execution_count": null,
   "metadata": {},
   "outputs": [],
   "source": []
  }
 ],
 "metadata": {
  "kernelspec": {
   "display_name": "Python 3",
   "language": "python",
   "name": "python3"
  },
  "language_info": {
   "codemirror_mode": {
    "name": "ipython",
    "version": 3
   },
   "file_extension": ".py",
   "mimetype": "text/x-python",
   "name": "python",
   "nbconvert_exporter": "python",
   "pygments_lexer": "ipython3",
   "version": "3.8.5"
  }
 },
 "nbformat": 4,
 "nbformat_minor": 2
}
