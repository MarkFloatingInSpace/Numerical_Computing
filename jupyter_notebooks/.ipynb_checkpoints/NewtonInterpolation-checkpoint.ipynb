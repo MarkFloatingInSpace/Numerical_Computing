{
 "cells": [
  {
   "cell_type": "markdown",
   "metadata": {},
   "source": [
    "# Newton interpolation"
   ]
  },
  {
   "cell_type": "code",
   "execution_count": 1,
   "metadata": {},
   "outputs": [],
   "source": [
    "from math import pi,sin,cos\n",
    "import numpy as np\n",
    "import matplotlib.pyplot as plt"
   ]
  },
  {
   "cell_type": "code",
   "execution_count": 2,
   "metadata": {},
   "outputs": [],
   "source": [
    "def NewtonInterpol (pts, vals):\n",
    "    \"\"\"\n",
    "    Calculate coefficients of Newton interpol by \n",
    "    divided differences.\n",
    "    \n",
    "    input: \n",
    "       pts ... list of points\n",
    "       val ... list of values\n",
    "       \n",
    "    output: \n",
    "       divided differences\n",
    "    \"\"\"\n",
    "    \n",
    "    n = len(pts)-1\n",
    "    dd = np.asarray(vals)\n",
    "    for i in range(n):\n",
    "        for j in range(n, i, -1):\n",
    "            print (\"i =\",i, \", j =\",j)\n",
    "            dd[j] = (dd[j]-dd[j-1]) / (pts[j]-pts[j-i-1])\n",
    "    return dd"
   ]
  },
  {
   "cell_type": "code",
   "execution_count": 3,
   "metadata": {},
   "outputs": [],
   "source": [
    "def Horner (pts, dd, x):\n",
    "    \"\"\"\n",
    "    Horner scheme for polynomial evaluation in Newton basis\n",
    "    \"\"\"\n",
    "    n = len(pts)-1\n",
    "    sum = dd[n]\n",
    "    for i in range(n-1, -1, -1):\n",
    "        sum = sum * (x-pts[i]) + dd[i]\n",
    "    return sum"
   ]
  },
  {
   "cell_type": "code",
   "execution_count": 4,
   "metadata": {},
   "outputs": [
    {
     "name": "stdout",
     "output_type": "stream",
     "text": [
      "i = 0 , j = 2\n",
      "i = 0 , j = 1\n",
      "i = 1 , j = 2\n",
      "[ 0.          0.90031632 -0.33574887]\n"
     ]
    }
   ],
   "source": [
    "pts = [0, pi/4, pi/2]\n",
    "vals = [sin(p) for p in pts]\n",
    "dd = NewtonInterpol (pts, vals)\n",
    "print (dd)"
   ]
  },
  {
   "cell_type": "markdown",
   "metadata": {},
   "source": [
    "Checking interpolation points:"
   ]
  },
  {
   "cell_type": "code",
   "execution_count": 5,
   "metadata": {},
   "outputs": [
    {
     "name": "stdout",
     "output_type": "stream",
     "text": [
      "p= 0 val= 0.0 intpol= 0.0\n",
      "p= 0.7853981633974483 val= 0.7071067811865476 intpol= 0.7071067811865476\n",
      "p= 1.5707963267948966 val= 1.0 intpol= 1.0\n"
     ]
    }
   ],
   "source": [
    "for p,v in zip(pts, vals):\n",
    "    print (\"p=\",p, \"val=\", v, \"intpol=\", Horner(pts, dd, p))"
   ]
  },
  {
   "cell_type": "code",
   "execution_count": 6,
   "metadata": {},
   "outputs": [
    {
     "name": "stdout",
     "output_type": "stream",
     "text": [
      "Help on function NewtonInterpol in module __main__:\n",
      "\n",
      "NewtonInterpol(pts, vals)\n",
      "    Calculate coefficients of Newton interpol by \n",
      "    divided differences.\n",
      "    \n",
      "    input: \n",
      "       pts ... list of points\n",
      "       val ... list of values\n",
      "       \n",
      "    output: \n",
      "       divided differences\n",
      "\n"
     ]
    }
   ],
   "source": [
    "help (NewtonInterpol)"
   ]
  },
  {
   "cell_type": "markdown",
   "metadata": {},
   "source": [
    "# Using extrapolation for numerical differentiation\n",
    "\n",
    "\n",
    "forward difference quotient\n",
    "$$\n",
    "D(h) = \\frac{\\sin(x+h) - \\sin(x)}{h}\n",
    "$$"
   ]
  },
  {
   "cell_type": "code",
   "execution_count": 7,
   "metadata": {},
   "outputs": [],
   "source": [
    "def D(x, h): return (sin(x+h)-sin(x)) / h"
   ]
  },
  {
   "cell_type": "code",
   "execution_count": 8,
   "metadata": {},
   "outputs": [
    {
     "name": "stdout",
     "output_type": "stream",
     "text": [
      "[1, 0.5, 0.25, 0.125, 0.0625, 0.03125, 0.015625, 0.0078125]\n",
      "[0.0678264420177852, 0.3120480035923159, 0.4300545381907588, 0.4863728743295894, 0.5136632057467949, 0.5270674561467814, 0.5337064628577153, 0.5370098303297226]\n"
     ]
    }
   ],
   "source": [
    "pts = [2**-j for j in range(8)]\n",
    "print (pts)\n",
    "x = 1\n",
    "vals = [D(x,h) for h in pts]\n",
    "print (vals)"
   ]
  },
  {
   "cell_type": "code",
   "execution_count": 9,
   "metadata": {
    "scrolled": true
   },
   "outputs": [
    {
     "name": "stdout",
     "output_type": "stream",
     "text": [
      "i = 0 , j = 7\n",
      "i = 0 , j = 6\n",
      "i = 0 , j = 5\n",
      "i = 0 , j = 4\n",
      "i = 0 , j = 3\n",
      "i = 0 , j = 2\n",
      "i = 0 , j = 1\n",
      "i = 1 , j = 7\n",
      "i = 1 , j = 6\n",
      "i = 1 , j = 5\n",
      "i = 1 , j = 4\n",
      "i = 1 , j = 3\n",
      "i = 1 , j = 2\n",
      "i = 2 , j = 7\n",
      "i = 2 , j = 6\n",
      "i = 2 , j = 5\n",
      "i = 2 , j = 4\n",
      "i = 2 , j = 3\n",
      "i = 3 , j = 7\n",
      "i = 3 , j = 6\n",
      "i = 3 , j = 5\n",
      "i = 3 , j = 4\n",
      "i = 4 , j = 7\n",
      "i = 4 , j = 6\n",
      "i = 4 , j = 5\n",
      "i = 5 , j = 7\n",
      "i = 5 , j = 6\n",
      "i = 6 , j = 7\n",
      "0.5403023058681258\n",
      "cos(x) =  0.5403023058681398\n",
      "error =  1.3988810110276972e-14\n"
     ]
    }
   ],
   "source": [
    "dd = NewtonInterpol (pts, vals)\n",
    "print (Horner(pts, dd, 0))\n",
    "print (\"cos(x) = \", cos(x))\n",
    "print (\"error = \", cos(x)-Horner(pts, dd, 0))"
   ]
  },
  {
   "cell_type": "markdown",
   "metadata": {},
   "source": [
    "# Generating a convergence plot"
   ]
  },
  {
   "cell_type": "code",
   "execution_count": 10,
   "metadata": {},
   "outputs": [
    {
     "name": "stdout",
     "output_type": "stream",
     "text": [
      "i = 0 , j = 1\n",
      "i = 0 , j = 2\n",
      "i = 0 , j = 1\n",
      "i = 1 , j = 2\n",
      "i = 0 , j = 3\n",
      "i = 0 , j = 2\n",
      "i = 0 , j = 1\n",
      "i = 1 , j = 3\n",
      "i = 1 , j = 2\n",
      "i = 2 , j = 3\n",
      "i = 0 , j = 4\n",
      "i = 0 , j = 3\n",
      "i = 0 , j = 2\n",
      "i = 0 , j = 1\n",
      "i = 1 , j = 4\n",
      "i = 1 , j = 3\n",
      "i = 1 , j = 2\n",
      "i = 2 , j = 4\n",
      "i = 2 , j = 3\n",
      "i = 3 , j = 4\n",
      "i = 0 , j = 5\n",
      "i = 0 , j = 4\n",
      "i = 0 , j = 3\n",
      "i = 0 , j = 2\n",
      "i = 0 , j = 1\n",
      "i = 1 , j = 5\n",
      "i = 1 , j = 4\n",
      "i = 1 , j = 3\n",
      "i = 1 , j = 2\n",
      "i = 2 , j = 5\n",
      "i = 2 , j = 4\n",
      "i = 2 , j = 3\n",
      "i = 3 , j = 5\n",
      "i = 3 , j = 4\n",
      "i = 4 , j = 5\n",
      "i = 0 , j = 6\n",
      "i = 0 , j = 5\n",
      "i = 0 , j = 4\n",
      "i = 0 , j = 3\n",
      "i = 0 , j = 2\n",
      "i = 0 , j = 1\n",
      "i = 1 , j = 6\n",
      "i = 1 , j = 5\n",
      "i = 1 , j = 4\n",
      "i = 1 , j = 3\n",
      "i = 1 , j = 2\n",
      "i = 2 , j = 6\n",
      "i = 2 , j = 5\n",
      "i = 2 , j = 4\n",
      "i = 2 , j = 3\n",
      "i = 3 , j = 6\n",
      "i = 3 , j = 5\n",
      "i = 3 , j = 4\n",
      "i = 4 , j = 6\n",
      "i = 4 , j = 5\n",
      "i = 5 , j = 6\n",
      "i = 0 , j = 7\n",
      "i = 0 , j = 6\n",
      "i = 0 , j = 5\n",
      "i = 0 , j = 4\n",
      "i = 0 , j = 3\n",
      "i = 0 , j = 2\n",
      "i = 0 , j = 1\n",
      "i = 1 , j = 7\n",
      "i = 1 , j = 6\n",
      "i = 1 , j = 5\n",
      "i = 1 , j = 4\n",
      "i = 1 , j = 3\n",
      "i = 1 , j = 2\n",
      "i = 2 , j = 7\n",
      "i = 2 , j = 6\n",
      "i = 2 , j = 5\n",
      "i = 2 , j = 4\n",
      "i = 2 , j = 3\n",
      "i = 3 , j = 7\n",
      "i = 3 , j = 6\n",
      "i = 3 , j = 5\n",
      "i = 3 , j = 4\n",
      "i = 4 , j = 7\n",
      "i = 4 , j = 6\n",
      "i = 4 , j = 5\n",
      "i = 5 , j = 7\n",
      "i = 5 , j = 6\n",
      "i = 6 , j = 7\n",
      "i = 0 , j = 8\n",
      "i = 0 , j = 7\n",
      "i = 0 , j = 6\n",
      "i = 0 , j = 5\n",
      "i = 0 , j = 4\n",
      "i = 0 , j = 3\n",
      "i = 0 , j = 2\n",
      "i = 0 , j = 1\n",
      "i = 1 , j = 8\n",
      "i = 1 , j = 7\n",
      "i = 1 , j = 6\n",
      "i = 1 , j = 5\n",
      "i = 1 , j = 4\n",
      "i = 1 , j = 3\n",
      "i = 1 , j = 2\n",
      "i = 2 , j = 8\n",
      "i = 2 , j = 7\n",
      "i = 2 , j = 6\n",
      "i = 2 , j = 5\n",
      "i = 2 , j = 4\n",
      "i = 2 , j = 3\n",
      "i = 3 , j = 8\n",
      "i = 3 , j = 7\n",
      "i = 3 , j = 6\n",
      "i = 3 , j = 5\n",
      "i = 3 , j = 4\n",
      "i = 4 , j = 8\n",
      "i = 4 , j = 7\n",
      "i = 4 , j = 6\n",
      "i = 4 , j = 5\n",
      "i = 5 , j = 8\n",
      "i = 5 , j = 7\n",
      "i = 5 , j = 6\n",
      "i = 6 , j = 8\n",
      "i = 6 , j = 7\n",
      "i = 7 , j = 8\n",
      "i = 0 , j = 9\n",
      "i = 0 , j = 8\n",
      "i = 0 , j = 7\n",
      "i = 0 , j = 6\n",
      "i = 0 , j = 5\n",
      "i = 0 , j = 4\n",
      "i = 0 , j = 3\n",
      "i = 0 , j = 2\n",
      "i = 0 , j = 1\n",
      "i = 1 , j = 9\n",
      "i = 1 , j = 8\n",
      "i = 1 , j = 7\n",
      "i = 1 , j = 6\n",
      "i = 1 , j = 5\n",
      "i = 1 , j = 4\n",
      "i = 1 , j = 3\n",
      "i = 1 , j = 2\n",
      "i = 2 , j = 9\n",
      "i = 2 , j = 8\n",
      "i = 2 , j = 7\n",
      "i = 2 , j = 6\n",
      "i = 2 , j = 5\n",
      "i = 2 , j = 4\n",
      "i = 2 , j = 3\n",
      "i = 3 , j = 9\n",
      "i = 3 , j = 8\n",
      "i = 3 , j = 7\n",
      "i = 3 , j = 6\n",
      "i = 3 , j = 5\n",
      "i = 3 , j = 4\n",
      "i = 4 , j = 9\n",
      "i = 4 , j = 8\n",
      "i = 4 , j = 7\n",
      "i = 4 , j = 6\n",
      "i = 4 , j = 5\n",
      "i = 5 , j = 9\n",
      "i = 5 , j = 8\n",
      "i = 5 , j = 7\n",
      "i = 5 , j = 6\n",
      "i = 6 , j = 9\n",
      "i = 6 , j = 8\n",
      "i = 6 , j = 7\n",
      "i = 7 , j = 9\n",
      "i = 7 , j = 8\n",
      "i = 8 , j = 9\n",
      "[0.47247586385035456, 0.015967259298706793, 0.005022602795180298, 3.2999835479330386e-05, 1.288865051130017e-06, 1.921431902474069e-09, 1.106714719867341e-11, 1.3988810110276972e-14, 2.5202062658991053e-14, 6.217248937900877e-15]\n"
     ]
    }
   ],
   "source": [
    "x = 1\n",
    "\n",
    "errors = []\n",
    "for n in range(1, 11):\n",
    "    pts = [2**-j for j in range(n)]\n",
    "    vals = [D(x,h) for h in pts]\n",
    "    dd = NewtonInterpol (pts, vals)\n",
    "    err = cos(x)-Horner(pts, dd, 0)\n",
    "    errors.append (abs(err))\n",
    "print (errors)"
   ]
  },
  {
   "cell_type": "code",
   "execution_count": 11,
   "metadata": {},
   "outputs": [
    {
     "data": {
      "text/plain": [
       "[<matplotlib.lines.Line2D at 0x2121ddf73d0>]"
      ]
     },
     "execution_count": 11,
     "metadata": {},
     "output_type": "execute_result"
    },
    {
     "data": {
      "image/png": "[encoded data removed]",
      "text/plain": [
       "<Figure size 432x288 with 1 Axes>"
      ]
     },
     "metadata": {
      "needs_background": "light"
     },
     "output_type": "display_data"
    }
   ],
   "source": [
    "plt.yscale(\"log\")\n",
    "plt.xlabel(\"points\")\n",
    "plt.ylabel(\"error\")\n",
    "plt.plot (range(1,len(errors)+1), errors, \"-x\")"
   ]
  },
  {
   "cell_type": "code",
   "execution_count": null,
   "metadata": {},
   "outputs": [],
   "source": []
  },
  {
   "cell_type": "code",
   "execution_count": null,
   "metadata": {},
   "outputs": [],
   "source": []
  }
 ],
 "metadata": {
  "kernelspec": {
   "display_name": "Python 3",
   "language": "python",
   "name": "python3"
  },
  "language_info": {
   "codemirror_mode": {
    "name": "ipython",
    "version": 3
   },
   "file_extension": ".py",
   "mimetype": "text/x-python",
   "name": "python",
   "nbconvert_exporter": "python",
   "pygments_lexer": "ipython3",
   "version": "3.8.5"
  }
 },
 "nbformat": 4,
 "nbformat_minor": 2
}
